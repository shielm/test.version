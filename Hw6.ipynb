{
 "cells": [
  {
   "cell_type": "code",
   "execution_count": 1,
   "id": "eb83d798",
   "metadata": {},
   "outputs": [
    {
     "name": "stdout",
     "output_type": "stream",
     "text": [
      "Введите начальную дату в формате YYYY-MM-DD: 2020-08-20\n",
      "Введите дату окончания в формате YYYY-MM-DD: 2020-08-29\n"
     ]
    },
    {
     "data": {
      "text/plain": [
       "['2020-08-21',\n",
       " '2020-08-22',\n",
       " '2020-08-23',\n",
       " '2020-08-24',\n",
       " '2020-08-25',\n",
       " '2020-08-26',\n",
       " '2020-08-27',\n",
       " '2020-08-28',\n",
       " '2020-08-29',\n",
       " '2020-08-30']"
      ]
     },
     "execution_count": 1,
     "metadata": {},
     "output_type": "execute_result"
    }
   ],
   "source": [
    "from datetime import timedelta\n",
    "from datetime import datetime\n",
    "start_date=input('Введите начальную дату в формате YYYY-MM-DD: ')\n",
    "end_date=input('Введите дату окончания в формате YYYY-MM-DD: ')\n",
    "def date_range(start, end):\n",
    "    start_datetime=datetime.strptime(start,'%Y-%m-%d')\n",
    "    end_datetime=datetime.strptime(end,'%Y-%m-%d')\n",
    "    days=[]\n",
    "    intermediate_datetime=start_datetime\n",
    "    while intermediate_datetime<=end_datetime:\n",
    "        intermediate_datetime=intermediate_datetime+timedelta(days=1)\n",
    "        print_datetime=datetime.strftime(intermediate_datetime,'%Y-%m-%d')\n",
    "        days.append(print_datetime)\n",
    "        #print(print_datetime)\n",
    "    return(days)\n",
    "date_range(start_date, end_date)"
   ]
  },
  {
   "cell_type": "code",
   "execution_count": null,
   "id": "a10d1138",
   "metadata": {},
   "outputs": [],
   "source": []
  }
 ],
 "metadata": {
  "kernelspec": {
   "display_name": "Python 3 (ipykernel)",
   "language": "python",
   "name": "python3"
  },
  "language_info": {
   "codemirror_mode": {
    "name": "ipython",
    "version": 3
   },
   "file_extension": ".py",
   "mimetype": "text/x-python",
   "name": "python",
   "nbconvert_exporter": "python",
   "pygments_lexer": "ipython3",
   "version": "3.9.12"
  }
 },
 "nbformat": 4,
 "nbformat_minor": 5
}
